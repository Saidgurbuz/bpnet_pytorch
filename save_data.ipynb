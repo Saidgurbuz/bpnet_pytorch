{
 "cells": [
  {
   "cell_type": "markdown",
   "metadata": {},
   "source": [
    "#### Notebook to save input and output data to load in the future"
   ]
  },
  {
   "cell_type": "code",
   "execution_count": 2,
   "metadata": {},
   "outputs": [],
   "source": [
    "import torch\n",
    "from Bio import SeqIO\n",
    "import pyBigWig\n",
    "from helpers import seq_to_one_hot"
   ]
  },
  {
   "cell_type": "markdown",
   "metadata": {},
   "source": [
    "#### Currently, I subsampled the data by getting 10.000 samples from each chromosome."
   ]
  },
  {
   "cell_type": "code",
   "execution_count": 2,
   "metadata": {},
   "outputs": [],
   "source": [
    "start_index = 10_000_000\n",
    "end_index = 20_000_000\n",
    "sequence_length = 1000\n",
    "num_samples = (end_index - start_index) // sequence_length\n",
    "num_tasks = 4\n",
    "tasks = ['oct4', 'sox2', 'nanog', 'klf4']\n",
    "\n",
    "chromosomes = ['chr1', 'chr10', 'chr11', 'chr12', 'chr13', 'chr14', 'chr15',\n",
    "                'chr16', 'chr17', 'chr18', 'chr19', 'chr2', 'chr3', 'chr4',\n",
    "                'chr5', 'chr6', 'chr7', 'chr8', 'chr9', 'chrX', 'chrY']\n",
    "\n",
    "train_chrs = ['chr1', 'chr10', 'chr11', 'chr12', 'chr13', 'chr14', 'chr15',\n",
    "                'chr2', 'chr3', 'chr4', 'chr5', 'chr6', 'chr7', 'chr8', 'chr9']\n",
    "\n",
    "val_chrs = ['chr16', 'chr17', 'chr18']\n",
    "test_chrs = ['chr19', 'chrX', 'chrY']"
   ]
  },
  {
   "cell_type": "code",
   "execution_count": 3,
   "metadata": {},
   "outputs": [],
   "source": [
    "dna_file = 'mm10.fa'\n",
    "with open(dna_file, 'r') as file:\n",
    "        dna = list(SeqIO.parse(file, 'fasta'))"
   ]
  },
  {
   "cell_type": "code",
   "execution_count": 4,
   "metadata": {},
   "outputs": [],
   "source": [
    "# get labels\n",
    "pos_counts = []\n",
    "neg_counts = []\n",
    "for task in tasks:\n",
    "    pos_counts.append(pyBigWig.open(f'{task}-counts.pos.bw'))\n",
    "    neg_counts.append(pyBigWig.open(f'{task}-counts.neg.bw'))"
   ]
  },
  {
   "cell_type": "code",
   "execution_count": 5,
   "metadata": {},
   "outputs": [],
   "source": [
    "train_sequences = list(filter(lambda c: c.id in train_chrs, dna))\n",
    "val_sequences = list(filter(lambda c: c.id in val_chrs, dna))\n",
    "test_sequences = list(filter(lambda c: c.id in test_chrs, dna))"
   ]
  },
  {
   "cell_type": "code",
   "execution_count": null,
   "metadata": {},
   "outputs": [],
   "source": [
    "datasets = {\n",
    "    'train': train_sequences,\n",
    "    'val': val_sequences,\n",
    "    'test': test_sequences\n",
    "}\n",
    "\n",
    "for dataset_name, dataset in datasets.items():\n",
    "    inputs = torch.zeros(len(dataset) * num_samples, sequence_length, 4)\n",
    "    targets_chip_seq = torch.zeros(len(dataset) * num_samples, num_tasks, sequence_length, 2)\n",
    "    targets_bias = torch.zeros(len(dataset) * num_samples, num_tasks, 2)\n",
    "    for chr in range(len(dataset)):\n",
    "        name_chr = dataset[chr].id\n",
    "        print(dataset[chr].id)\n",
    "        for i in range(start_index, end_index, sequence_length):\n",
    "            start = i\n",
    "            end = i + sequence_length\n",
    "            index = chr * num_samples + (i - start_index) // 1000\n",
    "            inputs[index] = seq_to_one_hot(str(dataset[chr].seq[start:end]))\n",
    "            for task in range(num_tasks):\n",
    "                # get profile shape for both positive and negative strands\n",
    "                ps_pos = torch.Tensor(pos_counts[task].values(name_chr, start, end))\n",
    "                ps_neg = torch.Tensor(neg_counts[task].values(name_chr, start, end))\n",
    "                ps_pos[ps_pos != ps_pos] = 0\n",
    "                ps_neg[ps_neg != ps_neg] = 0\n",
    "                # get total counts\n",
    "                tc_pos = ps_pos.sum()\n",
    "                tc_neg = ps_neg.sum()\n",
    "                targets_chip_seq[index][task] = torch.stack([ps_pos, ps_neg], dim=1)\n",
    "                targets_bias[index][task] = torch.Tensor([tc_pos, tc_neg])\n",
    "\n",
    "    torch.save(inputs, f'{dataset_name}_inputs.pt')\n",
    "    torch.save(targets_chip_seq, f'{dataset_name}_targets_chip_seq.pt')\n",
    "    torch.save(targets_bias, f'{dataset_name}_targets_bias.pt')\n"
   ]
  }
 ],
 "metadata": {
  "kernelspec": {
   "display_name": "tfenv",
   "language": "python",
   "name": "python3"
  },
  "language_info": {
   "codemirror_mode": {
    "name": "ipython",
    "version": 3
   },
   "file_extension": ".py",
   "mimetype": "text/x-python",
   "name": "python",
   "nbconvert_exporter": "python",
   "pygments_lexer": "ipython3",
   "version": "3.11.6"
  }
 },
 "nbformat": 4,
 "nbformat_minor": 2
}
